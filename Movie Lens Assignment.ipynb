{
 "cells": [
  {
   "cell_type": "markdown",
   "metadata": {
    "deletable": true,
    "editable": true
   },
   "source": [
    "# Movie Database Analysis#"
   ]
  },
  {
   "cell_type": "markdown",
   "metadata": {
    "deletable": true,
    "editable": true
   },
   "source": [
    "Required import statements"
   ]
  },
  {
   "cell_type": "code",
   "execution_count": 59,
   "metadata": {
    "collapsed": false,
    "deletable": true,
    "editable": true
   },
   "outputs": [],
   "source": [
    "%matplotlib inline\n",
    "import pandas as pd\n",
    "import matplotlib.pyplot as plt\n",
    "import numpy as np"
   ]
  },
  {
   "cell_type": "markdown",
   "metadata": {
    "deletable": true,
    "editable": true
   },
   "source": [
    "Data loading into dataframes"
   ]
  },
  {
   "cell_type": "code",
   "execution_count": 60,
   "metadata": {
    "collapsed": false,
    "deletable": true,
    "editable": true
   },
   "outputs": [],
   "source": [
    "data_udata = pd.read_table('/home/user/Downloads/Movie lens/ml-100k/u.data', header = None, \n",
    "                           delim_whitespace=True)\n",
    "data_udata.columns = ['User_id', 'Item ID', 'Rating', 'Timestamp']\n",
    "\n",
    "data_uuser = pd.read_table('/home/user/Downloads/Movie lens/ml-100k/u.user', header = None, sep=\"|\")\n",
    "data_uuser.columns = ['User_id', 'Age', 'Gender', 'Profession','Zipcode']\n",
    "\n",
    "data_uitem=pd.read_table('/home/user/Downloads/Movie lens/ml-100k/u.item', header = None, sep=\"|\", \n",
    "                         encoding=\"ISO-8859-1\")\n",
    "data_uitem.columns = ['Item ID', 'movie_title', 'release_date', 'video_release_date', 'IMDb URL', 'unknown',\n",
    "                    'Action', 'Adventure', 'Animation', 'Children', 'Comedy', 'Crime', 'Documentary', 'Drama', \n",
    "                    'Fantasy', 'Film-Noir', 'Horror', 'Musical', 'Mystery', 'Romance', 'Sci-Fi', 'thriller', \n",
    "                    'War', 'Western']\n"
   ]
  },
  {
   "cell_type": "markdown",
   "metadata": {
    "deletable": true,
    "editable": true
   },
   "source": [
    "## Part 1 ##"
   ]
  },
  {
   "cell_type": "markdown",
   "metadata": {
    "deletable": true,
    "editable": true
   },
   "source": [
    "Grouping data by ID and counting the total rating "
   ]
  },
  {
   "cell_type": "code",
   "execution_count": 63,
   "metadata": {
    "collapsed": false,
    "deletable": true,
    "editable": true
   },
   "outputs": [],
   "source": [
    "final1 = data_udata.groupby('User_id').Rating.agg('count')\n"
   ]
  },
  {
   "cell_type": "markdown",
   "metadata": {
    "deletable": true,
    "editable": true
   },
   "source": [
    "Plotting the histogram Age versus Count"
   ]
  },
  {
   "cell_type": "code",
   "execution_count": 64,
   "metadata": {
    "collapsed": false,
    "deletable": true,
    "editable": true
   },
   "outputs": [
    {
     "data": {
      "image/png": "[encoded data removed]",
      "text/plain": [
       "<matplotlib.figure.Figure at 0x7f6fad752da0>"
      ]
     },
     "metadata": {},
     "output_type": "display_data"
    }
   ],
   "source": [
    "x = list(final1.index)\n",
    "y = final1.tolist()\n",
    "plt.bar(x,y)\n",
    "plt.title('Histogram : Ratings count')\n",
    "plt.ylabel('Count of Ratings')\n",
    "plt.xlabel('ID Range')\n",
    "plt.show()"
   ]
  },
  {
   "cell_type": "markdown",
   "metadata": {
    "deletable": true,
    "editable": true
   },
   "source": [
    "## Part 2"
   ]
  },
  {
   "cell_type": "markdown",
   "metadata": {
    "deletable": true,
    "editable": true
   },
   "source": [
    "Sorting data by age and counting the number of users in a particular age"
   ]
  },
  {
   "cell_type": "code",
   "execution_count": 65,
   "metadata": {
    "collapsed": true,
    "deletable": true,
    "editable": true
   },
   "outputs": [],
   "source": [
    "final2 = data_uuser.groupby('Age').Age.agg('count') "
   ]
  },
  {
   "cell_type": "markdown",
   "metadata": {
    "deletable": true,
    "editable": true
   },
   "source": [
    "Plotting bar graph Age versus Count"
   ]
  },
  {
   "cell_type": "code",
   "execution_count": 66,
   "metadata": {
    "collapsed": false,
    "deletable": true,
    "editable": true,
    "scrolled": true
   },
   "outputs": [
    {
     "data": {
      "image/png": "[encoded data removed]",
      "text/plain": [
       "<matplotlib.figure.Figure at 0x7f6fadbb9358>"
      ]
     },
     "metadata": {},
     "output_type": "display_data"
    }
   ],
   "source": [
    "x = list(final2.index)\n",
    "y = final2.tolist()\n",
    "plt.bar(x,y)\n",
    "plt.title('Age versus count')\n",
    "plt.xlabel('Age')\n",
    "plt.ylabel('Count')\n",
    "plt.show()\n"
   ]
  },
  {
   "cell_type": "markdown",
   "metadata": {
    "deletable": true,
    "editable": true
   },
   "source": [
    "## Part3 "
   ]
  },
  {
   "cell_type": "markdown",
   "metadata": {
    "deletable": true,
    "editable": true
   },
   "source": [
    "Dropping unnecessary columns and merging the dataframes for required dataset"
   ]
  },
  {
   "cell_type": "code",
   "execution_count": 67,
   "metadata": {
    "collapsed": false,
    "deletable": true,
    "editable": true
   },
   "outputs": [],
   "source": [
    "temp1 = data_uitem\n",
    "temp1.drop(['movie_title', 'release_date', 'video_release_date', 'IMDb URL'], axis=1, inplace=True)\n",
    "temp = pd.merge(data_udata,data_uuser, on='User_id', how = 'outer')\n",
    "temp.drop(['Rating','Timestamp', 'Age', 'Profession','Zipcode'], axis = 1, inplace = True)\n",
    "final3 = pd.merge(temp, temp1, on = 'Item ID', how = 'outer')"
   ]
  },
  {
   "cell_type": "markdown",
   "metadata": {
    "deletable": true,
    "editable": true
   },
   "source": [
    "Creating a new dataframe for obtaining final counts"
   ]
  },
  {
   "cell_type": "code",
   "execution_count": 68,
   "metadata": {
    "collapsed": true,
    "deletable": true,
    "editable": true
   },
   "outputs": [],
   "source": [
    "rowname = ['Action', 'Adventure','Animation', 'Children', 'Comedy', 'Crime', \n",
    "         'Documentary', 'Drama', 'Fantasy','Film-Noir', 'Horror', 'Musical',\n",
    "         'Mystery', 'Romance', 'Sci-Fi', 'thriller', 'War', 'Western']\n",
    "df= pd.DataFrame(index=rowname, columns=['M','F'])"
   ]
  },
  {
   "cell_type": "markdown",
   "metadata": {
    "deletable": true,
    "editable": true
   },
   "source": [
    "Iterating through the dataframe for obtaining final counts"
   ]
  },
  {
   "cell_type": "code",
   "execution_count": 69,
   "metadata": {
    "collapsed": false,
    "deletable": true,
    "editable": true
   },
   "outputs": [],
   "source": [
    "for l in range(len(rowname)):\n",
    "    listf = final3.groupby('Gender')[rowname[l]].sum().tolist()\n",
    "    df.loc[rowname[l]:, 'M'] = listf[0]\n",
    "    df.loc[rowname[l]:, 'F'] = listf[1]"
   ]
  },
  {
   "cell_type": "markdown",
   "metadata": {
    "deletable": true,
    "editable": true
   },
   "source": [
    "Plotting the stacked bar chart for final counts"
   ]
  },
  {
   "cell_type": "code",
   "execution_count": 70,
   "metadata": {
    "collapsed": false,
    "deletable": true,
    "editable": true
   },
   "outputs": [
    {
     "data": {
      "text/plain": [
       "<matplotlib.axes._subplots.AxesSubplot at 0x7f6fad95a0f0>"
      ]
     },
     "execution_count": 70,
     "metadata": {},
     "output_type": "execute_result"
    },
    {
     "data": {
      "image/png": "[encoded data removed]",
      "text/plain": [
       "<matplotlib.figure.Figure at 0x7f6faa7ec160>"
      ]
     },
     "metadata": {},
     "output_type": "display_data"
    }
   ],
   "source": [
    "df.plot(title='Total ratings of a genre grouped by gender', kind = 'bar',stacked = True)"
   ]
  }
 ],
 "metadata": {
  "kernelspec": {
   "display_name": "Python 3",
   "language": "python",
   "name": "python3"
  },
  "language_info": {
   "codemirror_mode": {
    "name": "ipython",
    "version": 3
   },
   "file_extension": ".py",
   "mimetype": "text/x-python",
   "name": "python",
   "nbconvert_exporter": "python",
   "pygments_lexer": "ipython3",
   "version": "3.5.2"
  }
 },
 "nbformat": 4,
 "nbformat_minor": 2
}
