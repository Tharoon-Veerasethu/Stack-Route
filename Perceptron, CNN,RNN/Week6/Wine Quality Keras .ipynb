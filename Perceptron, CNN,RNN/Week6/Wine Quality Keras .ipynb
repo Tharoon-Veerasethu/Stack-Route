{
 "cells": [
  {
   "cell_type": "markdown",
   "metadata": {
    "deletable": true,
    "editable": true
   },
   "source": [
    "# Import Statements"
   ]
  },
  {
   "cell_type": "code",
   "execution_count": 37,
   "metadata": {
    "collapsed": false,
    "deletable": true,
    "editable": true
   },
   "outputs": [],
   "source": [
    "import numpy as np\n",
    "import matplotlib.pyplot as plt\n",
    "import math\n",
    "from sklearn import cross_validation\n",
    "import plotly.plotly as py\n",
    "import plotly.graph_objs as go\n",
    "from plotly.offline import plot    \n",
    "import plotly.graph_objs as go\n",
    "import pandas as pd\n",
    "from keras.models import Sequential\n",
    "from keras.layers import Dense, Dropout\n",
    "from keras.optimizers import RMSprop\n",
    "from sklearn.cross_validation import train_test_split\n",
    "import keras"
   ]
  },
  {
   "cell_type": "markdown",
   "metadata": {
    "deletable": true,
    "editable": true
   },
   "source": [
    "# Loading Data"
   ]
  },
  {
   "cell_type": "code",
   "execution_count": 38,
   "metadata": {
    "collapsed": false,
    "deletable": true,
    "editable": true
   },
   "outputs": [],
   "source": [
    "white_wine = pd.read_csv(\"/home/user/Downloads/Wine/white.csv\", sep=\";\",header=None)\n",
    "red_wine = pd.read_csv(\"/home/user/Downloads/Wine/red.csv\", sep=\";\",header=None)\n",
    "red_wine.drop(red_wine.columns[0],axis=0,inplace=True)\n",
    "white_wine.drop(white_wine.columns[0],axis=0,inplace=True)\n",
    "red_white = pd.DataFrame()\n",
    "red_white = pd.DataFrame(red_white.append([white_wine,red_wine])).reset_index()"
   ]
  },
  {
   "cell_type": "code",
   "execution_count": 39,
   "metadata": {
    "collapsed": false,
    "deletable": true,
    "editable": true
   },
   "outputs": [],
   "source": [
    "red_white.drop(red_white[['index']],axis=1,inplace=True)"
   ]
  },
  {
   "cell_type": "markdown",
   "metadata": {
    "deletable": true,
    "editable": true
   },
   "source": [
    "# Fixing Parameters"
   ]
  },
  {
   "cell_type": "code",
   "execution_count": 40,
   "metadata": {
    "collapsed": true,
    "deletable": true,
    "editable": true
   },
   "outputs": [],
   "source": [
    "batch_size = 10\n",
    "num_classes = 3\n",
    "epochs = 10\n",
    "z = [keras.callbacks.EarlyStopping(monitor=\"val_acc\", min_delta=0.01, patience=3, verbose=1, mode='max')]"
   ]
  },
  {
   "cell_type": "markdown",
   "metadata": {
    "deletable": true,
    "editable": true
   },
   "source": [
    "# Function for data operations"
   ]
  },
  {
   "cell_type": "code",
   "execution_count": 41,
   "metadata": {
    "collapsed": true,
    "deletable": true,
    "editable": true
   },
   "outputs": [],
   "source": [
    "def data(dataf):\n",
    "    \n",
    "    dataf = dataf.astype(float)\n",
    "    \n",
    "    #categorizing the data\n",
    "    white1 = dataf[dataf[11]>=7]\n",
    "    white1[11] = 2\n",
    "    white2 = dataf[(dataf[11]>3) & (dataf[11]<7)]\n",
    "    white2[11] = 1\n",
    "    white3 = dataf[dataf[11]<=3]\n",
    "    white3[11] = 0\n",
    "    white_2 = pd.DataFrame()\n",
    "    white_2= pd.DataFrame(white_2.append([white1,white2,white3]))\n",
    "    \n",
    "    #test-train split\n",
    "    x_train, x_test = train_test_split(white_2, train_size = 0.8)\n",
    "    y_train = pd.DataFrame(x_train[11])\n",
    "    y_test = pd.DataFrame(x_test[11])\n",
    "    x_train.drop(x_train.columns[11],axis=1,inplace=True)\n",
    "    x_test.drop(x_test.columns[11],axis=1,inplace=True)\n",
    "    \n",
    "    #normalize the data\n",
    "    x_train = (x_train - x_train.mean()) / (x_train.max() - x_train.min())\n",
    "    x_test = (x_test - x_test.mean()) / (x_test.max() - x_test.min())\n",
    "    \n",
    "    #converting data to numpy array\n",
    "    xtrain = np.array(x_train.as_matrix(),dtype=np.float64)\n",
    "    xtest=np.array(x_test.as_matrix(),dtype=np.float64)\n",
    "    ytrain=np.array(y_train.as_matrix(),dtype=np.float64)\n",
    "    ytest=np.array(y_test.as_matrix(),dtype=np.float64)\n",
    "    \n",
    "    #one hot encoding for the categories\n",
    "    ytrain = keras.utils.to_categorical(ytrain, num_classes)\n",
    "    ytest = keras.utils.to_categorical(ytest, num_classes)\n",
    "    \n",
    "    return xtrain, xtest, ytrain, ytest"
   ]
  },
  {
   "cell_type": "markdown",
   "metadata": {
    "deletable": true,
    "editable": true
   },
   "source": [
    "# Function for plotting the graph"
   ]
  },
  {
   "cell_type": "code",
   "execution_count": 42,
   "metadata": {
    "collapsed": true,
    "deletable": true,
    "editable": true
   },
   "outputs": [],
   "source": [
    "def plotting(model_1):\n",
    "    plt.plot(model_1.history['acc'])\n",
    "    plt.plot(model_1.history['val_acc'])\n",
    "    plt.title('model accuracy')\n",
    "    plt.ylabel('accuracy')\n",
    "    plt.xlabel('epoch')\n",
    "    plt.legend(['train', 'test'], loc='upper left')\n",
    "    plt.show()\n",
    "    plt.plot(model_1.history['loss'])\n",
    "    plt.plot(model_1.history['val_loss'])\n",
    "    plt.title('model loss')\n",
    "    plt.ylabel('loss')\n",
    "    plt.xlabel('epoch')\n",
    "    plt.legend(['train', 'test'], loc='upper left')\n",
    "    plt.show()"
   ]
  },
  {
   "cell_type": "markdown",
   "metadata": {
    "deletable": true,
    "editable": true
   },
   "source": [
    "## Choosing the dataset"
   ]
  },
  {
   "cell_type": "code",
   "execution_count": 43,
   "metadata": {
    "collapsed": false,
    "deletable": true,
    "editable": true
   },
   "outputs": [
    {
     "name": "stderr",
     "output_type": "stream",
     "text": [
      "/home/user/Stackroute/p3/lib/python3.5/site-packages/ipykernel/__main__.py:7: SettingWithCopyWarning:\n",
      "\n",
      "\n",
      "A value is trying to be set on a copy of a slice from a DataFrame.\n",
      "Try using .loc[row_indexer,col_indexer] = value instead\n",
      "\n",
      "See the caveats in the documentation: http://pandas.pydata.org/pandas-docs/stable/indexing.html#indexing-view-versus-copy\n",
      "\n",
      "/home/user/Stackroute/p3/lib/python3.5/site-packages/ipykernel/__main__.py:9: SettingWithCopyWarning:\n",
      "\n",
      "\n",
      "A value is trying to be set on a copy of a slice from a DataFrame.\n",
      "Try using .loc[row_indexer,col_indexer] = value instead\n",
      "\n",
      "See the caveats in the documentation: http://pandas.pydata.org/pandas-docs/stable/indexing.html#indexing-view-versus-copy\n",
      "\n",
      "/home/user/Stackroute/p3/lib/python3.5/site-packages/ipykernel/__main__.py:11: SettingWithCopyWarning:\n",
      "\n",
      "\n",
      "A value is trying to be set on a copy of a slice from a DataFrame.\n",
      "Try using .loc[row_indexer,col_indexer] = value instead\n",
      "\n",
      "See the caveats in the documentation: http://pandas.pydata.org/pandas-docs/stable/indexing.html#indexing-view-versus-copy\n",
      "\n",
      "/home/user/Stackroute/p3/lib/python3.5/site-packages/ipykernel/__main__.py:19: SettingWithCopyWarning:\n",
      "\n",
      "\n",
      "A value is trying to be set on a copy of a slice from a DataFrame\n",
      "\n",
      "See the caveats in the documentation: http://pandas.pydata.org/pandas-docs/stable/indexing.html#indexing-view-versus-copy\n",
      "\n",
      "/home/user/Stackroute/p3/lib/python3.5/site-packages/ipykernel/__main__.py:20: SettingWithCopyWarning:\n",
      "\n",
      "\n",
      "A value is trying to be set on a copy of a slice from a DataFrame\n",
      "\n",
      "See the caveats in the documentation: http://pandas.pydata.org/pandas-docs/stable/indexing.html#indexing-view-versus-copy\n",
      "\n"
     ]
    }
   ],
   "source": [
    "xtrain, xtest, ytrain, ytest = data(red_white)"
   ]
  },
  {
   "cell_type": "code",
   "execution_count": null,
   "metadata": {
    "collapsed": false,
    "deletable": true,
    "editable": true
   },
   "outputs": [],
   "source": []
  },
  {
   "cell_type": "markdown",
   "metadata": {
    "collapsed": false,
    "deletable": true,
    "editable": true
   },
   "source": [
    "# Model 1 : 1 hidden layer"
   ]
  },
  {
   "cell_type": "code",
   "execution_count": 44,
   "metadata": {
    "collapsed": false,
    "deletable": true,
    "editable": true
   },
   "outputs": [
    {
     "name": "stdout",
     "output_type": "stream",
     "text": [
      "Train on 4157 samples, validate on 1040 samples\n",
      "Epoch 1/10\n",
      "3s - loss: 0.4654 - acc: 0.8030 - val_loss: 0.4171 - val_acc: 0.8231\n",
      "Epoch 2/10\n",
      "3s - loss: 0.4347 - acc: 0.8114 - val_loss: 0.3878 - val_acc: 0.8346\n",
      "Epoch 3/10\n",
      "3s - loss: 0.4300 - acc: 0.8165 - val_loss: 0.3727 - val_acc: 0.8385\n",
      "Epoch 4/10\n",
      "3s - loss: 0.4192 - acc: 0.8196 - val_loss: 0.3813 - val_acc: 0.8317\n",
      "Epoch 5/10\n",
      "3s - loss: 0.4197 - acc: 0.8193 - val_loss: 0.3721 - val_acc: 0.8327\n",
      "Epoch 6/10\n",
      "3s - loss: 0.4156 - acc: 0.8213 - val_loss: 0.3686 - val_acc: 0.8423\n",
      "Epoch 00005: early stopping\n"
     ]
    },
    {
     "data": {
      "image/png": "[encoded data removed]",
      "text/plain": [
       "<matplotlib.figure.Figure at 0x7f7a50b7be80>"
      ]
     },
     "metadata": {},
     "output_type": "display_data"
    },
    {
     "data": {
      "image/png": "[encoded data removed]",
      "text/plain": [
       "<matplotlib.figure.Figure at 0x7f7a50b1eb38>"
      ]
     },
     "metadata": {},
     "output_type": "display_data"
    }
   ],
   "source": [
    "model1 = Sequential()\n",
    "model1.add(Dense(600, activation='relu', input_shape=(11,)))\n",
    "model1.add(Dense(500, activation='relu'))\n",
    "model1.add(Dense(3, activation='softmax'))\n",
    "model1.compile(optimizer=RMSprop(),loss='categorical_crossentropy',metrics = ['accuracy'])\n",
    "model_1 = model1.fit(xtrain, ytrain, batch_size=batch_size, epochs=epochs, validation_split = .2, verbose=2,callbacks=z)\n",
    "plotting(model_1)"
   ]
  },
  {
   "cell_type": "markdown",
   "metadata": {
    "deletable": true,
    "editable": true
   },
   "source": [
    "# Model 2 : 2 hidden layer"
   ]
  },
  {
   "cell_type": "code",
   "execution_count": 36,
   "metadata": {
    "collapsed": false,
    "deletable": true,
    "editable": true
   },
   "outputs": [
    {
     "name": "stdout",
     "output_type": "stream",
     "text": [
      "Train on 4157 samples, validate on 1040 samples\n",
      "Epoch 1/10\n",
      "6s - loss: 0.4554 - acc: 0.8044 - val_loss: 0.4514 - val_acc: 0.8192\n",
      "Epoch 2/10\n",
      "6s - loss: 0.4250 - acc: 0.8114 - val_loss: 0.4346 - val_acc: 0.8212\n",
      "Epoch 3/10\n",
      "6s - loss: 0.4205 - acc: 0.8208 - val_loss: 0.4641 - val_acc: 0.8029\n",
      "Epoch 4/10\n",
      "7s - loss: 0.4143 - acc: 0.8282 - val_loss: 0.5089 - val_acc: 0.8250\n",
      "Epoch 5/10\n",
      "6s - loss: 0.4205 - acc: 0.8232 - val_loss: 0.4825 - val_acc: 0.8000\n",
      "Epoch 00004: early stopping\n"
     ]
    },
    {
     "data": {
      "image/png": "[encoded data removed]",
      "text/plain": [
       "<matplotlib.figure.Figure at 0x7f7a58081f28>"
      ]
     },
     "metadata": {},
     "output_type": "display_data"
    },
    {
     "data": {
      "image/png": "[encoded data removed]",
      "text/plain": [
       "<matplotlib.figure.Figure at 0x7f7a581b7cc0>"
      ]
     },
     "metadata": {},
     "output_type": "display_data"
    }
   ],
   "source": [
    "model2 = Sequential()\n",
    "model2.add(Dense(400, activation='relu', input_shape=(11,)))\n",
    "model2.add(Dense(600, activation='relu'))\n",
    "model2.add(Dense(700, activation='relu'))\n",
    "model2.add(Dense(3, activation='softmax'))\n",
    "model2.compile(optimizer=RMSprop(),loss='categorical_crossentropy',metrics = ['accuracy'])\n",
    "model_2 = model2.fit(xtrain, ytrain, batch_size=batch_size, epochs=epochs, validation_split = .2, verbose=2,callbacks=z)\n",
    "plotting(model_2)"
   ]
  },
  {
   "cell_type": "markdown",
   "metadata": {
    "deletable": true,
    "editable": true
   },
   "source": [
    "# Model 3 : 3 hidden layers"
   ]
  },
  {
   "cell_type": "code",
   "execution_count": null,
   "metadata": {
    "collapsed": false,
    "deletable": true,
    "editable": true
   },
   "outputs": [],
   "source": [
    "model3 = Sequential()\n",
    "model3.add(Dense(400, activation='relu', input_shape=(11,)))\n",
    "model3.add(Dense(600, activation='relu'))\n",
    "model3.add(Dense(700, activation='relu'))\n",
    "model3.add(Dense(800, activation='relu'))\n",
    "model3.add(Dense(3, activation='softmax'))\n",
    "model3.compile(optimizer=RMSprop(),loss='categorical_crossentropy',metrics = ['accuracy'])\n",
    "model_3 = model3.fit(xtrain, ytrain, batch_size=batch_size, epochs=epochs, validation_split = .2, verbose=2,callbacks=z)\n",
    "plotting(model_3)"
   ]
  },
  {
   "cell_type": "markdown",
   "metadata": {
    "deletable": true,
    "editable": true
   },
   "source": [
    "# Model 4 : 4 hidden layers"
   ]
  },
  {
   "cell_type": "code",
   "execution_count": null,
   "metadata": {
    "collapsed": false,
    "deletable": true,
    "editable": true
   },
   "outputs": [],
   "source": [
    "model4 = Sequential()\n",
    "model4.add(Dense(400, activation='relu', input_shape=(11,)))\n",
    "model4.add(Dense(600, activation='relu'))\n",
    "model4.add(Dense(700, activation='relu'))\n",
    "model4.add(Dense(800, activation='relu'))\n",
    "model4.add(Dense(800, activation='relu'))\n",
    "model4.add(Dense(3, activation='softmax'))\n",
    "model4.compile(optimizer=RMSprop(),loss='categorical_crossentropy',metrics = ['accuracy'])\n",
    "model_4 = model4.fit(xtrain, ytrain, batch_size=batch_size, epochs=epochs, validation_split = .2, verbose=2,callbacks=z)\n",
    "plotting(model_4)"
   ]
  },
  {
   "cell_type": "markdown",
   "metadata": {
    "deletable": true,
    "editable": true
   },
   "source": [
    "# Model 5 : 5 hidden layers"
   ]
  },
  {
   "cell_type": "code",
   "execution_count": null,
   "metadata": {
    "collapsed": false,
    "deletable": true,
    "editable": true
   },
   "outputs": [],
   "source": [
    "model5 = Sequential()\n",
    "model5.add(Dense(400, activation='relu', input_shape=(11,)))\n",
    "model5.add(Dense(600, activation='relu'))\n",
    "model5.add(Dense(700, activation='relu'))\n",
    "model5.add(Dense(800, activation='relu'))\n",
    "model5.add(Dense(800, activation='relu'))\n",
    "model5.add(Dense(800, activation='relu'))\n",
    "model5.add(Dense(3, activation='softmax'))\n",
    "model5.compile(optimizer=RMSprop(),loss='categorical_crossentropy',metrics = ['accuracy'])\n",
    "model_5 = model5.fit(xtrain, ytrain, batch_size=batch_size, epochs=epochs, validation_split = .2, verbose=2,callbacks=z)\n",
    "plotting(model_5)"
   ]
  },
  {
   "cell_type": "code",
   "execution_count": null,
   "metadata": {
    "collapsed": true,
    "deletable": true,
    "editable": true
   },
   "outputs": [],
   "source": []
  }
 ],
 "metadata": {
  "kernelspec": {
   "display_name": "Python 3",
   "language": "python",
   "name": "python3"
  },
  "language_info": {
   "codemirror_mode": {
    "name": "ipython",
    "version": 3
   },
   "file_extension": ".py",
   "mimetype": "text/x-python",
   "name": "python",
   "nbconvert_exporter": "python",
   "pygments_lexer": "ipython3",
   "version": "3.5.2"
  }
 },
 "nbformat": 4,
 "nbformat_minor": 2
}
